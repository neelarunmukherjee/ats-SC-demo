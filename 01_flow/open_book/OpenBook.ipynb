{
 "cells": [
  {
   "cell_type": "markdown",
   "id": "b24bbd14-e7ef-4620-abec-240c977e25c2",
   "metadata": {},
   "source": [
    "# Hillslope Mesh Generation\n",
    "\n",
    "This notebook illustrates generating a hillslope \"open book\" mesh using TINerator.\n",
    "\n",
    "This process is done in two main parts:\n",
    "\n",
    "1. Define the 2D planar quad mesh\n",
    "2. Extrude to 3D into a hex mesh\n",
    "3. Define face sets and write to disk"
   ]
  },
  {
   "cell_type": "code",
   "execution_count": 2,
   "id": "af3e4165-68ca-4250-a685-d705d7cdb425",
   "metadata": {},
   "outputs": [
    {
     "ename": "ImportError",
     "evalue": "libpoppler.so.91: cannot open shared object file: No such file or directory",
     "output_type": "error",
     "traceback": [
      "\u001b[0;31m---------------------------------------------------------------------------\u001b[0m",
      "\u001b[0;31mImportError\u001b[0m                               Traceback (most recent call last)",
      "\u001b[0;32m/tmp/ipykernel_321/3201645546.py\u001b[0m in \u001b[0;36m<module>\u001b[0;34m\u001b[0m\n\u001b[1;32m      1\u001b[0m \u001b[0;31m# Import TINerator and other required packages\u001b[0m\u001b[0;34m\u001b[0m\u001b[0;34m\u001b[0m\u001b[0;34m\u001b[0m\u001b[0m\n\u001b[1;32m      2\u001b[0m \u001b[0;34m\u001b[0m\u001b[0m\n\u001b[0;32m----> 3\u001b[0;31m \u001b[0;32mimport\u001b[0m \u001b[0mtinerator\u001b[0m \u001b[0;32mas\u001b[0m \u001b[0mtin\u001b[0m\u001b[0;34m\u001b[0m\u001b[0;34m\u001b[0m\u001b[0m\n\u001b[0m\u001b[1;32m      4\u001b[0m \u001b[0;32mimport\u001b[0m \u001b[0mnumpy\u001b[0m \u001b[0;32mas\u001b[0m \u001b[0mnp\u001b[0m\u001b[0;34m\u001b[0m\u001b[0;34m\u001b[0m\u001b[0m\n\u001b[1;32m      5\u001b[0m \u001b[0;32mfrom\u001b[0m \u001b[0mmatplotlib\u001b[0m \u001b[0;32mimport\u001b[0m \u001b[0mpyplot\u001b[0m \u001b[0;32mas\u001b[0m \u001b[0mplt\u001b[0m\u001b[0;34m\u001b[0m\u001b[0;34m\u001b[0m\u001b[0m\n",
      "\u001b[0;32m~/tinerator/tinerator/__init__.py\u001b[0m in \u001b[0;36m<module>\u001b[0;34m\u001b[0m\n\u001b[1;32m     18\u001b[0m \u001b[0;32mfrom\u001b[0m \u001b[0mtinerator\u001b[0m\u001b[0;34m.\u001b[0m\u001b[0m_version\u001b[0m \u001b[0;32mimport\u001b[0m \u001b[0m__version__\u001b[0m\u001b[0;34m\u001b[0m\u001b[0;34m\u001b[0m\u001b[0m\n\u001b[1;32m     19\u001b[0m \u001b[0;32mfrom\u001b[0m \u001b[0mtinerator\u001b[0m\u001b[0;34m.\u001b[0m\u001b[0mlogging\u001b[0m \u001b[0;32mimport\u001b[0m \u001b[0mset_logging_verbosity\u001b[0m\u001b[0;34m,\u001b[0m \u001b[0mdebug_mode\u001b[0m\u001b[0;34m,\u001b[0m \u001b[0mLogLevel\u001b[0m\u001b[0;34m\u001b[0m\u001b[0;34m\u001b[0m\u001b[0m\n\u001b[0;32m---> 20\u001b[0;31m \u001b[0;32mimport\u001b[0m \u001b[0mtinerator\u001b[0m\u001b[0;34m.\u001b[0m\u001b[0mmeshing\u001b[0m \u001b[0;32mas\u001b[0m \u001b[0mmeshing\u001b[0m\u001b[0;34m\u001b[0m\u001b[0;34m\u001b[0m\u001b[0m\n\u001b[0m\u001b[1;32m     21\u001b[0m \u001b[0;32mimport\u001b[0m \u001b[0mtinerator\u001b[0m\u001b[0;34m.\u001b[0m\u001b[0mgis\u001b[0m \u001b[0;32mas\u001b[0m \u001b[0mgis\u001b[0m\u001b[0;34m\u001b[0m\u001b[0;34m\u001b[0m\u001b[0m\n\u001b[1;32m     22\u001b[0m \u001b[0;32mimport\u001b[0m \u001b[0mtinerator\u001b[0m\u001b[0;34m.\u001b[0m\u001b[0mvisualize\u001b[0m \u001b[0;32mas\u001b[0m \u001b[0mvisualize\u001b[0m\u001b[0;34m\u001b[0m\u001b[0;34m\u001b[0m\u001b[0m\n",
      "\u001b[0;32m~/tinerator/tinerator/meshing/__init__.py\u001b[0m in \u001b[0;36m<module>\u001b[0;34m\u001b[0m\n\u001b[0;32m----> 1\u001b[0;31m \u001b[0;32mfrom\u001b[0m \u001b[0;34m.\u001b[0m\u001b[0mmesh\u001b[0m \u001b[0;32mimport\u001b[0m \u001b[0mMesh\u001b[0m\u001b[0;34m,\u001b[0m \u001b[0mload_mesh\u001b[0m\u001b[0;34m\u001b[0m\u001b[0;34m\u001b[0m\u001b[0m\n\u001b[0m\u001b[1;32m      2\u001b[0m \u001b[0;32mfrom\u001b[0m \u001b[0;34m.\u001b[0m\u001b[0mhillslope_mesh\u001b[0m \u001b[0;32mimport\u001b[0m \u001b[0mcreate_hillslope_mesh\u001b[0m\u001b[0;34m\u001b[0m\u001b[0;34m\u001b[0m\u001b[0m\n\u001b[1;32m      3\u001b[0m \u001b[0;32mfrom\u001b[0m \u001b[0;34m.\u001b[0m\u001b[0mmeshing_types\u001b[0m \u001b[0;32mimport\u001b[0m \u001b[0mElementType\u001b[0m\u001b[0;34m\u001b[0m\u001b[0;34m\u001b[0m\u001b[0m\n\u001b[1;32m      4\u001b[0m from .layering import (\n\u001b[1;32m      5\u001b[0m     \u001b[0mProportionalSublayering\u001b[0m\u001b[0;34m,\u001b[0m\u001b[0;34m\u001b[0m\u001b[0;34m\u001b[0m\u001b[0m\n",
      "\u001b[0;32m~/tinerator/tinerator/meshing/mesh.py\u001b[0m in \u001b[0;36m<module>\u001b[0;34m\u001b[0m\n\u001b[1;32m     13\u001b[0m \u001b[0;32mfrom\u001b[0m \u001b[0;34m.\u001b[0m\u001b[0mmeshing_types\u001b[0m \u001b[0;32mimport\u001b[0m \u001b[0mElementType\u001b[0m\u001b[0;34m\u001b[0m\u001b[0;34m\u001b[0m\u001b[0m\n\u001b[1;32m     14\u001b[0m \u001b[0;32mfrom\u001b[0m \u001b[0;34m.\u001b[0m\u001b[0msurface_mesh\u001b[0m \u001b[0;32mimport\u001b[0m \u001b[0mSurfaceMesh\u001b[0m\u001b[0;34m\u001b[0m\u001b[0;34m\u001b[0m\u001b[0m\n\u001b[0;32m---> 15\u001b[0;31m \u001b[0;32mfrom\u001b[0m \u001b[0;34m.\u001b[0m\u001b[0;34m.\u001b[0m\u001b[0mvisualize\u001b[0m \u001b[0;32mimport\u001b[0m \u001b[0mview_3d\u001b[0m \u001b[0;32mas\u001b[0m \u001b[0mv3d\u001b[0m\u001b[0;34m\u001b[0m\u001b[0;34m\u001b[0m\u001b[0m\n\u001b[0m\u001b[1;32m     16\u001b[0m \u001b[0;32mfrom\u001b[0m \u001b[0;34m.\u001b[0m\u001b[0;34m.\u001b[0m\u001b[0mvisualize\u001b[0m \u001b[0;32mimport\u001b[0m \u001b[0mplot_triangulation\u001b[0m\u001b[0;34m,\u001b[0m \u001b[0mplot_sets\u001b[0m\u001b[0;34m\u001b[0m\u001b[0;34m\u001b[0m\u001b[0m\n\u001b[1;32m     17\u001b[0m \u001b[0;32mfrom\u001b[0m \u001b[0;34m.\u001b[0m\u001b[0;34m.\u001b[0m\u001b[0mlogging\u001b[0m \u001b[0;32mimport\u001b[0m \u001b[0merror\u001b[0m\u001b[0;34m,\u001b[0m \u001b[0mprint_histogram_table\u001b[0m\u001b[0;34m\u001b[0m\u001b[0;34m\u001b[0m\u001b[0m\n",
      "\u001b[0;32m~/tinerator/tinerator/visualize/__init__.py\u001b[0m in \u001b[0;36m<module>\u001b[0;34m\u001b[0m\n\u001b[0;32m----> 1\u001b[0;31m \u001b[0;32mfrom\u001b[0m \u001b[0;34m.\u001b[0m\u001b[0mplot\u001b[0m \u001b[0;32mimport\u001b[0m \u001b[0mplot_objects\u001b[0m\u001b[0;34m,\u001b[0m \u001b[0mplot_triangulation\u001b[0m\u001b[0;34m\u001b[0m\u001b[0;34m\u001b[0m\u001b[0m\n\u001b[0m\u001b[1;32m      2\u001b[0m \u001b[0;32mfrom\u001b[0m \u001b[0;34m.\u001b[0m\u001b[0mview_3d\u001b[0m \u001b[0;32mimport\u001b[0m \u001b[0mplot_3d\u001b[0m\u001b[0;34m\u001b[0m\u001b[0;34m\u001b[0m\u001b[0m\n\u001b[1;32m      3\u001b[0m \u001b[0;32mfrom\u001b[0m \u001b[0;34m.\u001b[0m\u001b[0mplot_facesets\u001b[0m \u001b[0;32mimport\u001b[0m \u001b[0mplot_facesets\u001b[0m\u001b[0;34m\u001b[0m\u001b[0;34m\u001b[0m\u001b[0m\n\u001b[1;32m      4\u001b[0m \u001b[0;32mfrom\u001b[0m \u001b[0;34m.\u001b[0m\u001b[0mplot_sets\u001b[0m \u001b[0;32mimport\u001b[0m \u001b[0mplot_sets\u001b[0m\u001b[0;34m\u001b[0m\u001b[0;34m\u001b[0m\u001b[0m\n",
      "\u001b[0;32m~/tinerator/tinerator/visualize/plot.py\u001b[0m in \u001b[0;36m<module>\u001b[0;34m\u001b[0m\n\u001b[1;32m      6\u001b[0m \u001b[0;32mimport\u001b[0m \u001b[0mos\u001b[0m\u001b[0;34m\u001b[0m\u001b[0;34m\u001b[0m\u001b[0m\n\u001b[1;32m      7\u001b[0m \u001b[0;32mimport\u001b[0m \u001b[0mjson\u001b[0m\u001b[0;34m\u001b[0m\u001b[0;34m\u001b[0m\u001b[0m\n\u001b[0;32m----> 8\u001b[0;31m \u001b[0;32mfrom\u001b[0m \u001b[0;34m.\u001b[0m\u001b[0;34m.\u001b[0m\u001b[0mgis\u001b[0m \u001b[0;32mimport\u001b[0m \u001b[0mRaster\u001b[0m\u001b[0;34m,\u001b[0m \u001b[0mGeometry\u001b[0m\u001b[0;34m,\u001b[0m \u001b[0mparse_crs\u001b[0m\u001b[0;34m,\u001b[0m \u001b[0mreproject_geometry\u001b[0m\u001b[0;34m,\u001b[0m \u001b[0mreproject_raster\u001b[0m\u001b[0;34m\u001b[0m\u001b[0;34m\u001b[0m\u001b[0m\n\u001b[0m\u001b[1;32m      9\u001b[0m \u001b[0;32mfrom\u001b[0m \u001b[0mtyping\u001b[0m \u001b[0;32mimport\u001b[0m \u001b[0mUnion\u001b[0m\u001b[0;34m\u001b[0m\u001b[0;34m\u001b[0m\u001b[0m\n\u001b[1;32m     10\u001b[0m \u001b[0;34m\u001b[0m\u001b[0m\n",
      "\u001b[0;32m~/tinerator/tinerator/gis/__init__.py\u001b[0m in \u001b[0;36m<module>\u001b[0;34m\u001b[0m\n\u001b[0;32m----> 1\u001b[0;31m from .gis_tools import (\n\u001b[0m\u001b[1;32m      2\u001b[0m     \u001b[0mreproject_geometry\u001b[0m\u001b[0;34m,\u001b[0m\u001b[0;34m\u001b[0m\u001b[0;34m\u001b[0m\u001b[0m\n\u001b[1;32m      3\u001b[0m     \u001b[0mreproject_raster\u001b[0m\u001b[0;34m,\u001b[0m\u001b[0;34m\u001b[0m\u001b[0;34m\u001b[0m\u001b[0m\n\u001b[1;32m      4\u001b[0m     \u001b[0mclip_raster\u001b[0m\u001b[0;34m,\u001b[0m\u001b[0;34m\u001b[0m\u001b[0;34m\u001b[0m\u001b[0m\n\u001b[1;32m      5\u001b[0m     \u001b[0mrasterize_geometry\u001b[0m\u001b[0;34m,\u001b[0m\u001b[0;34m\u001b[0m\u001b[0;34m\u001b[0m\u001b[0m\n",
      "\u001b[0;32m~/tinerator/tinerator/gis/gis_tools.py\u001b[0m in \u001b[0;36m<module>\u001b[0;34m\u001b[0m\n\u001b[1;32m      5\u001b[0m \u001b[0;32mimport\u001b[0m \u001b[0msnowy\u001b[0m\u001b[0;34m\u001b[0m\u001b[0;34m\u001b[0m\u001b[0m\n\u001b[1;32m      6\u001b[0m \u001b[0;32mfrom\u001b[0m \u001b[0mshapely\u001b[0m\u001b[0;34m.\u001b[0m\u001b[0mops\u001b[0m \u001b[0;32mimport\u001b[0m \u001b[0mtransform\u001b[0m\u001b[0;34m\u001b[0m\u001b[0;34m\u001b[0m\u001b[0m\n\u001b[0;32m----> 7\u001b[0;31m \u001b[0;32mfrom\u001b[0m \u001b[0;34m.\u001b[0m\u001b[0mgeoutils\u001b[0m \u001b[0;32mimport\u001b[0m \u001b[0mparse_crs\u001b[0m\u001b[0;34m\u001b[0m\u001b[0;34m\u001b[0m\u001b[0m\n\u001b[0m\u001b[1;32m      8\u001b[0m \u001b[0;32mfrom\u001b[0m \u001b[0;34m.\u001b[0m\u001b[0;34m.\u001b[0m\u001b[0mlogging\u001b[0m \u001b[0;32mimport\u001b[0m \u001b[0mlog\u001b[0m\u001b[0;34m,\u001b[0m \u001b[0mwarn\u001b[0m\u001b[0;34m,\u001b[0m \u001b[0mdebug\u001b[0m\u001b[0;34m,\u001b[0m \u001b[0merror\u001b[0m\u001b[0;34m\u001b[0m\u001b[0;34m\u001b[0m\u001b[0m\n\u001b[1;32m      9\u001b[0m \u001b[0;32mfrom\u001b[0m \u001b[0;34m.\u001b[0m\u001b[0mraster\u001b[0m \u001b[0;32mimport\u001b[0m \u001b[0mRaster\u001b[0m\u001b[0;34m,\u001b[0m \u001b[0mload_raster\u001b[0m\u001b[0;34m,\u001b[0m \u001b[0mnew_raster\u001b[0m\u001b[0;34m\u001b[0m\u001b[0;34m\u001b[0m\u001b[0m\n",
      "\u001b[0;32m~/tinerator/tinerator/gis/geoutils.py\u001b[0m in \u001b[0;36m<module>\u001b[0;34m\u001b[0m\n\u001b[1;32m      4\u001b[0m \u001b[0;32mfrom\u001b[0m \u001b[0mscipy\u001b[0m\u001b[0;34m.\u001b[0m\u001b[0mspatial\u001b[0m\u001b[0;34m.\u001b[0m\u001b[0mdistance\u001b[0m \u001b[0;32mimport\u001b[0m \u001b[0meuclidean\u001b[0m\u001b[0;34m,\u001b[0m \u001b[0mcdist\u001b[0m\u001b[0;34m\u001b[0m\u001b[0;34m\u001b[0m\u001b[0m\n\u001b[1;32m      5\u001b[0m \u001b[0;32mfrom\u001b[0m \u001b[0mscipy\u001b[0m \u001b[0;32mimport\u001b[0m \u001b[0mndimage\u001b[0m \u001b[0;32mas\u001b[0m \u001b[0mnd\u001b[0m\u001b[0;34m\u001b[0m\u001b[0;34m\u001b[0m\u001b[0m\n\u001b[0;32m----> 6\u001b[0;31m \u001b[0;32mfrom\u001b[0m \u001b[0mosgeo\u001b[0m \u001b[0;32mimport\u001b[0m \u001b[0mogr\u001b[0m\u001b[0;34m,\u001b[0m \u001b[0mgdal\u001b[0m\u001b[0;34m,\u001b[0m \u001b[0mgdal_array\u001b[0m\u001b[0;34m\u001b[0m\u001b[0;34m\u001b[0m\u001b[0m\n\u001b[0m\u001b[1;32m      7\u001b[0m \u001b[0;32mimport\u001b[0m \u001b[0mpyproj\u001b[0m\u001b[0;34m\u001b[0m\u001b[0;34m\u001b[0m\u001b[0m\n\u001b[1;32m      8\u001b[0m \u001b[0;32mfrom\u001b[0m \u001b[0mpyproj\u001b[0m \u001b[0;32mimport\u001b[0m \u001b[0mCRS\u001b[0m\u001b[0;34m\u001b[0m\u001b[0;34m\u001b[0m\u001b[0m\n",
      "\u001b[0;32m/opt/conda/lib/python3.8/site-packages/osgeo/__init__.py\u001b[0m in \u001b[0;36m<module>\u001b[0;34m\u001b[0m\n\u001b[1;32m     19\u001b[0m                 \u001b[0mfp\u001b[0m\u001b[0;34m.\u001b[0m\u001b[0mclose\u001b[0m\u001b[0;34m(\u001b[0m\u001b[0;34m)\u001b[0m\u001b[0;34m\u001b[0m\u001b[0;34m\u001b[0m\u001b[0m\n\u001b[1;32m     20\u001b[0m             \u001b[0;32mreturn\u001b[0m \u001b[0m_mod\u001b[0m\u001b[0;34m\u001b[0m\u001b[0;34m\u001b[0m\u001b[0m\n\u001b[0;32m---> 21\u001b[0;31m     \u001b[0m_gdal\u001b[0m \u001b[0;34m=\u001b[0m \u001b[0mswig_import_helper\u001b[0m\u001b[0;34m(\u001b[0m\u001b[0;34m)\u001b[0m\u001b[0;34m\u001b[0m\u001b[0;34m\u001b[0m\u001b[0m\n\u001b[0m\u001b[1;32m     22\u001b[0m     \u001b[0;32mdel\u001b[0m \u001b[0mswig_import_helper\u001b[0m\u001b[0;34m\u001b[0m\u001b[0;34m\u001b[0m\u001b[0m\n\u001b[1;32m     23\u001b[0m \u001b[0;32melse\u001b[0m\u001b[0;34m:\u001b[0m\u001b[0;34m\u001b[0m\u001b[0;34m\u001b[0m\u001b[0m\n",
      "\u001b[0;32m/opt/conda/lib/python3.8/site-packages/osgeo/__init__.py\u001b[0m in \u001b[0;36mswig_import_helper\u001b[0;34m()\u001b[0m\n\u001b[1;32m     15\u001b[0m         \u001b[0;32mif\u001b[0m \u001b[0mfp\u001b[0m \u001b[0;32mis\u001b[0m \u001b[0;32mnot\u001b[0m \u001b[0;32mNone\u001b[0m\u001b[0;34m:\u001b[0m\u001b[0;34m\u001b[0m\u001b[0;34m\u001b[0m\u001b[0m\n\u001b[1;32m     16\u001b[0m             \u001b[0;32mtry\u001b[0m\u001b[0;34m:\u001b[0m\u001b[0;34m\u001b[0m\u001b[0;34m\u001b[0m\u001b[0m\n\u001b[0;32m---> 17\u001b[0;31m                 \u001b[0m_mod\u001b[0m \u001b[0;34m=\u001b[0m \u001b[0mimp\u001b[0m\u001b[0;34m.\u001b[0m\u001b[0mload_module\u001b[0m\u001b[0;34m(\u001b[0m\u001b[0;34m'_gdal'\u001b[0m\u001b[0;34m,\u001b[0m \u001b[0mfp\u001b[0m\u001b[0;34m,\u001b[0m \u001b[0mpathname\u001b[0m\u001b[0;34m,\u001b[0m \u001b[0mdescription\u001b[0m\u001b[0;34m)\u001b[0m\u001b[0;34m\u001b[0m\u001b[0;34m\u001b[0m\u001b[0m\n\u001b[0m\u001b[1;32m     18\u001b[0m             \u001b[0;32mfinally\u001b[0m\u001b[0;34m:\u001b[0m\u001b[0;34m\u001b[0m\u001b[0;34m\u001b[0m\u001b[0m\n\u001b[1;32m     19\u001b[0m                 \u001b[0mfp\u001b[0m\u001b[0;34m.\u001b[0m\u001b[0mclose\u001b[0m\u001b[0;34m(\u001b[0m\u001b[0;34m)\u001b[0m\u001b[0;34m\u001b[0m\u001b[0;34m\u001b[0m\u001b[0m\n",
      "\u001b[0;32m/opt/conda/lib/python3.8/imp.py\u001b[0m in \u001b[0;36mload_module\u001b[0;34m(name, file, filename, details)\u001b[0m\n\u001b[1;32m    240\u001b[0m                 \u001b[0;32mreturn\u001b[0m \u001b[0mload_dynamic\u001b[0m\u001b[0;34m(\u001b[0m\u001b[0mname\u001b[0m\u001b[0;34m,\u001b[0m \u001b[0mfilename\u001b[0m\u001b[0;34m,\u001b[0m \u001b[0mopened_file\u001b[0m\u001b[0;34m)\u001b[0m\u001b[0;34m\u001b[0m\u001b[0;34m\u001b[0m\u001b[0m\n\u001b[1;32m    241\u001b[0m         \u001b[0;32melse\u001b[0m\u001b[0;34m:\u001b[0m\u001b[0;34m\u001b[0m\u001b[0;34m\u001b[0m\u001b[0m\n\u001b[0;32m--> 242\u001b[0;31m             \u001b[0;32mreturn\u001b[0m \u001b[0mload_dynamic\u001b[0m\u001b[0;34m(\u001b[0m\u001b[0mname\u001b[0m\u001b[0;34m,\u001b[0m \u001b[0mfilename\u001b[0m\u001b[0;34m,\u001b[0m \u001b[0mfile\u001b[0m\u001b[0;34m)\u001b[0m\u001b[0;34m\u001b[0m\u001b[0;34m\u001b[0m\u001b[0m\n\u001b[0m\u001b[1;32m    243\u001b[0m     \u001b[0;32melif\u001b[0m \u001b[0mtype_\u001b[0m \u001b[0;34m==\u001b[0m \u001b[0mPKG_DIRECTORY\u001b[0m\u001b[0;34m:\u001b[0m\u001b[0;34m\u001b[0m\u001b[0;34m\u001b[0m\u001b[0m\n\u001b[1;32m    244\u001b[0m         \u001b[0;32mreturn\u001b[0m \u001b[0mload_package\u001b[0m\u001b[0;34m(\u001b[0m\u001b[0mname\u001b[0m\u001b[0;34m,\u001b[0m \u001b[0mfilename\u001b[0m\u001b[0;34m)\u001b[0m\u001b[0;34m\u001b[0m\u001b[0;34m\u001b[0m\u001b[0m\n",
      "\u001b[0;32m/opt/conda/lib/python3.8/imp.py\u001b[0m in \u001b[0;36mload_dynamic\u001b[0;34m(name, path, file)\u001b[0m\n\u001b[1;32m    340\u001b[0m         spec = importlib.machinery.ModuleSpec(\n\u001b[1;32m    341\u001b[0m             name=name, loader=loader, origin=path)\n\u001b[0;32m--> 342\u001b[0;31m         \u001b[0;32mreturn\u001b[0m \u001b[0m_load\u001b[0m\u001b[0;34m(\u001b[0m\u001b[0mspec\u001b[0m\u001b[0;34m)\u001b[0m\u001b[0;34m\u001b[0m\u001b[0;34m\u001b[0m\u001b[0m\n\u001b[0m\u001b[1;32m    343\u001b[0m \u001b[0;34m\u001b[0m\u001b[0m\n\u001b[1;32m    344\u001b[0m \u001b[0;32melse\u001b[0m\u001b[0;34m:\u001b[0m\u001b[0;34m\u001b[0m\u001b[0;34m\u001b[0m\u001b[0m\n",
      "\u001b[0;31mImportError\u001b[0m: libpoppler.so.91: cannot open shared object file: No such file or directory"
     ]
    }
   ],
   "source": [
    "# Import TINerator and other required packages\n",
    "\n",
    "import tinerator as tin\n",
    "import numpy as np\n",
    "from matplotlib import pyplot as plt\n",
    "import ipywidgets as widgets\n",
    "%matplotlib widget"
   ]
  },
  {
   "cell_type": "markdown",
   "id": "43cad6a9-4132-4d57-9621-93f6a7ec0124",
   "metadata": {},
   "source": [
    "## 1. Define the 2D planar quad mesh\n",
    "\n",
    "TINerator builds hillslope meshes in a similar fashion to NumPy's `meshgrid` function. That is to say, three components are required:\n",
    "\n",
    "- `Z`: an $NxM$ matrix, where each cell in the matrix stores an elevation data and will become a singular point in the quad mesh\n",
    "- `y`: the Y-vector, equal in length to the rows of `Z`, that defines the y-coordinate for each row\n",
    "- `x`: the X-vector, equal in length to the columns of `Z`, that defines the x-coordinate for each column\n",
    "\n",
    "Below, we define a function for generating a V-shaped $NxM$ grid. Jupyter widget integration allows one to manipulate these values and view the results directly."
   ]
  },
  {
   "cell_type": "code",
   "execution_count": 3,
   "id": "a9a6e4c6-8266-48c9-bacf-7fd734403160",
   "metadata": {},
   "outputs": [
    {
     "ename": "ModuleNotFoundError",
     "evalue": "No module named 'ipywidgets'",
     "output_type": "error",
     "traceback": [
      "\u001b[0;31m---------------------------------------------------------------------------\u001b[0m",
      "\u001b[0;31mModuleNotFoundError\u001b[0m                       Traceback (most recent call last)",
      "\u001b[0;32m~/short-course/01_flow/open_book/widgets.py\u001b[0m in \u001b[0;36m<module>\u001b[0;34m\u001b[0m\n\u001b[0;32m----> 1\u001b[0;31m \u001b[0;32mimport\u001b[0m \u001b[0mipywidgets\u001b[0m \u001b[0;32mas\u001b[0m \u001b[0mwidgets\u001b[0m\u001b[0;34m\u001b[0m\u001b[0;34m\u001b[0m\u001b[0m\n\u001b[0m\u001b[1;32m      2\u001b[0m \u001b[0;32mimport\u001b[0m \u001b[0mmatplotlib\u001b[0m\u001b[0;34m.\u001b[0m\u001b[0mpyplot\u001b[0m \u001b[0;32mas\u001b[0m \u001b[0mplt\u001b[0m\u001b[0;34m\u001b[0m\u001b[0;34m\u001b[0m\u001b[0m\n\u001b[1;32m      3\u001b[0m \u001b[0;32mimport\u001b[0m \u001b[0mnumpy\u001b[0m \u001b[0;32mas\u001b[0m \u001b[0mnp\u001b[0m\u001b[0;34m\u001b[0m\u001b[0;34m\u001b[0m\u001b[0m\n\u001b[1;32m      4\u001b[0m \u001b[0;34m\u001b[0m\u001b[0m\n\u001b[1;32m      5\u001b[0m \u001b[0;32mdef\u001b[0m \u001b[0mmake_box_layout\u001b[0m\u001b[0;34m(\u001b[0m\u001b[0;34m)\u001b[0m\u001b[0;34m:\u001b[0m\u001b[0;34m\u001b[0m\u001b[0;34m\u001b[0m\u001b[0m\n",
      "\u001b[0;31mModuleNotFoundError\u001b[0m: No module named 'ipywidgets'"
     ]
    },
    {
     "ename": "NameError",
     "evalue": "name 'MakeMeshWidget' is not defined",
     "output_type": "error",
     "traceback": [
      "\u001b[0;31m---------------------------------------------------------------------------\u001b[0m",
      "\u001b[0;31mNameError\u001b[0m                                 Traceback (most recent call last)",
      "\u001b[0;32m~/short-course/01_flow/open_book/widgets.py\u001b[0m in \u001b[0;36m<module>\u001b[0;34m\u001b[0m\n\u001b[1;32m     34\u001b[0m \u001b[0;31m# The parameter `s.xyZ()` returns the x, y, Z data\u001b[0m\u001b[0;34m\u001b[0m\u001b[0;34m\u001b[0m\u001b[0;34m\u001b[0m\u001b[0m\n\u001b[1;32m     35\u001b[0m \u001b[0mget_ipython\u001b[0m\u001b[0;34m(\u001b[0m\u001b[0;34m)\u001b[0m\u001b[0;34m.\u001b[0m\u001b[0mrun_line_magic\u001b[0m\u001b[0;34m(\u001b[0m\u001b[0;34m'run'\u001b[0m\u001b[0;34m,\u001b[0m \u001b[0;34m'-i widgets.py'\u001b[0m\u001b[0;34m)\u001b[0m\u001b[0;34m\u001b[0m\u001b[0;34m\u001b[0m\u001b[0m\n\u001b[0;32m---> 36\u001b[0;31m \u001b[0mmm_widget\u001b[0m \u001b[0;34m=\u001b[0m \u001b[0mMakeMeshWidget\u001b[0m\u001b[0;34m(\u001b[0m\u001b[0;34m)\u001b[0m\u001b[0;34m\u001b[0m\u001b[0;34m\u001b[0m\u001b[0m\n\u001b[0m\u001b[1;32m     37\u001b[0m \u001b[0mdisplay\u001b[0m\u001b[0;34m(\u001b[0m\u001b[0mmm_widget\u001b[0m\u001b[0;34m)\u001b[0m\u001b[0;34m\u001b[0m\u001b[0;34m\u001b[0m\u001b[0m\n",
      "\u001b[0;31mNameError\u001b[0m: name 'MakeMeshWidget' is not defined"
     ]
    }
   ],
   "source": [
    "def f(x, y, xv, zv, v_slope, y0, stream_slope):\n",
    "    z = zv + v_slope*np.abs(x-xv) + (y-y0)*stream_slope\n",
    "    return z\n",
    "\n",
    "def make_mesh(\n",
    "    stream_slope = 0.05,\n",
    "    nx=11,\n",
    "    ny=21,\n",
    "    x_min=0.0,\n",
    "    x_max=10.0,\n",
    "    y_min=0.0,\n",
    "    y_max=20.0,\n",
    "    z_min=0.0,\n",
    "    z_v=7.0,\n",
    "    z_max=10.0,\n",
    "):\n",
    "    x_v = (x_max - x_min) / 2.\n",
    "    dx = (x_max - x_min) / (nx - 1)\n",
    "    dy = (y_max - y_min) / (ny - 1)\n",
    "    \n",
    "    v_slope = (z_max - z_v) / x_v\n",
    "    \n",
    "    x = np.linspace(x_min, x_max, nx)\n",
    "    y = np.linspace(y_min, y_max, ny)\n",
    "    X, Y = np.meshgrid(x, y)\n",
    "    \n",
    "    Z = f(X, Y, x_v, z_v, v_slope, y_min, stream_slope)\n",
    "    \n",
    "    return x, y, Z\n",
    "\n",
    "\n",
    "# The external 'widgets.py' file will\n",
    "#   compute `make_mesh` with widget functionality\n",
    "# The parameter `s.xyZ()` returns the x, y, Z data\n",
    "%run -i widgets.py\n",
    "mm_widget = MakeMeshWidget()\n",
    "display(mm_widget)"
   ]
  },
  {
   "cell_type": "code",
   "execution_count": null,
   "id": "55954b65-a71a-40fa-974c-05b6ebd2c003",
   "metadata": {},
   "outputs": [],
   "source": [
    "x, y, Z = mm_widget.xyZ()\n",
    "\n",
    "# Alternately, you can use the function directly:\n",
    "# =============================== #\n",
    "# x, y, Z = make_mesh(\n",
    "#     nx=12,\n",
    "#     ny=21,\n",
    "#     stream_slope=0.05,\n",
    "#     x_min=0.0,\n",
    "#     x_max=10.0,\n",
    "#     y_min=0.0,\n",
    "#     y_max=20.0,\n",
    "#     z_min=0.0,\n",
    "#     z_max=10.0,\n",
    "#     z_v=7.0,\n",
    "# )\n",
    "\n",
    "quad_mesh = tin.meshing.create_hillslope_mesh(\n",
    "    Z, x_coords=x, y_coords=y\n",
    ")\n",
    "quad_mesh.view()"
   ]
  },
  {
   "cell_type": "markdown",
   "id": "98de452e-daa1-4241-b50c-709ee6954b84",
   "metadata": {},
   "source": [
    "## 2. Extrude the 2D mesh into a 3D hex mesh\n",
    "\n",
    "We define the subsurface by extruding in the `-Z` direction. The `extrude_mesh` function takes in a list of one or more tuples defining the *layer schema*, in this case:\n",
    "\n",
    "```python\n",
    "(\"snapped\", z_min, n_z, 1)\n",
    "```\n",
    "\n",
    "Where:\n",
    "\n",
    "* `\"snapped\"` => flat-bottomed layer (not terrain following)\n",
    "* `z_min` => the Z value to 'snap' all nodes at the bottom of the layer to\n",
    "* `n_z` => the number of cells deep that compose the layer\n",
    "* `1` => the \"material ID\" value of the layer"
   ]
  },
  {
   "cell_type": "code",
   "execution_count": null,
   "id": "270a12ce-dbb3-4ef0-88cb-12fd2159d386",
   "metadata": {},
   "outputs": [],
   "source": [
    "z_min = 0.0\n",
    "n_z = 11\n",
    "\n",
    "layers = [(\"snapped\", z_min, n_z, 1),]\n",
    "hex_mesh = tin.meshing.extrude_mesh(quad_mesh, layers)\n",
    "hex_mesh.view()"
   ]
  },
  {
   "cell_type": "code",
   "execution_count": null,
   "id": "d5235e65-b563-476b-bf97-73cee9a84e5b",
   "metadata": {},
   "outputs": [],
   "source": [
    "x_min, x_max = np.min(x), np.max(x)\n",
    "y_min, y_max = np.min(y), np.max(y)\n",
    "z_min, z_max = 0, np.max(Z)\n",
    "\n",
    "x_center = x_min + (x_max - x_min) / 2.\n",
    "\n",
    "fractures = [\n",
    "    [[x_min, y_min, z_min], [x_max, y_max, z_max]],\n",
    "    [[x_center, y_min, 8.5], [x_center, y_max, 8.0]],\n",
    "    [[x_min, y_min, z_max / 2], [x_max, y_max / 2, z_max / 2]],\n",
    "]\n",
    "\n",
    "for (i, fracture) in enumerate(fractures):\n",
    "    cell_ids = hex_mesh.get_cells_along_line(fracture[0], fracture[1])\n",
    "    hex_mesh.set_cell_materials(cell_ids, 5 + i)\n",
    "\n",
    "hex_mesh.view(active_scalar=\"material_id\")"
   ]
  },
  {
   "cell_type": "markdown",
   "id": "73d0c439-1071-4446-804e-abe5b7b6a972",
   "metadata": {},
   "source": [
    "### 3. Create face sets and write to ExodusII file\n",
    "\n",
    "Face sets are defined as containing one or more faces from the *surface mesh*; or, the exterior of the extruded hex mesh.\n",
    "\n",
    "Below, we are extracting faces from the top of the mesh, along with faces that can be grouped by the face normal vector."
   ]
  },
  {
   "cell_type": "code",
   "execution_count": null,
   "id": "4fc6bbc5-b8cc-42a6-a678-f9bcabbaa12d",
   "metadata": {},
   "outputs": [],
   "source": [
    "surface_mesh = hex_mesh.surface_mesh()"
   ]
  },
  {
   "cell_type": "code",
   "execution_count": null,
   "id": "102a7c60-afea-4b86-9e82-f0410204d762",
   "metadata": {},
   "outputs": [],
   "source": [
    "sets = []\n",
    "\n",
    "sets.extend([\n",
    "    surface_mesh.top_faces,\n",
    "    surface_mesh.bottom_faces,\n",
    "    surface_mesh.side_faces\n",
    "])\n",
    "\n",
    "# We can also get north, south, west, east, up, down-facing cell faces:\n",
    "# ====================================================================\n",
    "#sets.extend(\n",
    "#    s for s in surface_mesh.from_cell_normals()\n",
    "#    if s.name in [\"north\", \"west\", \"east\", \"south\"]\n",
    "#)\n",
    "\n",
    "surface_mesh.validate_sets(sets)\n",
    "\n",
    "hex_mesh.view(sets=sets)\n",
    "hex_mesh.save(\"Open-Book-3D.exo\", sets=sets)"
   ]
  },
  {
   "cell_type": "code",
   "execution_count": null,
   "id": "fa8bc131-123c-49c7-99bd-f35c4da93e6a",
   "metadata": {},
   "outputs": [],
   "source": []
  },
  {
   "cell_type": "code",
   "execution_count": null,
   "id": "12421a96-df27-4ad8-9307-848d0d218fd9",
   "metadata": {},
   "outputs": [],
   "source": []
  }
 ],
 "metadata": {
  "kernelspec": {
   "display_name": "Python 3 (ipykernel)",
   "language": "python",
   "name": "python3"
  },
  "language_info": {
   "codemirror_mode": {
    "name": "ipython",
    "version": 3
   },
   "file_extension": ".py",
   "mimetype": "text/x-python",
   "name": "python",
   "nbconvert_exporter": "python",
   "pygments_lexer": "ipython3",
   "version": "3.8.5"
  }
 },
 "nbformat": 4,
 "nbformat_minor": 5
}
